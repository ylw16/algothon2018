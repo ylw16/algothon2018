{
 "cells": [
  {
   "cell_type": "code",
   "execution_count": 6,
   "metadata": {},
   "outputs": [
    {
     "name": "stdout",
     "output_type": "stream",
     "text": [
      "              Open    High     Low    Close      Volume  Ex-Dividend  \\\n",
      "Date                                                                   \n",
      "2018-03-21  175.04  175.09  171.26  171.270  35247358.0          0.0   \n",
      "2018-03-22  170.00  172.68  168.60  168.845  41051076.0          0.0   \n",
      "2018-03-23  168.39  169.92  164.94  164.940  40248954.0          0.0   \n",
      "2018-03-26  168.07  173.10  166.44  172.770  36272617.0          0.0   \n",
      "2018-03-27  173.68  175.15  166.92  168.340  38962839.0          0.0   \n",
      "\n",
      "            Split Ratio  Adj. Open  Adj. High  Adj. Low  Adj. Close  \\\n",
      "Date                                                                  \n",
      "2018-03-21          1.0     175.04     175.09    171.26     171.270   \n",
      "2018-03-22          1.0     170.00     172.68    168.60     168.845   \n",
      "2018-03-23          1.0     168.39     169.92    164.94     164.940   \n",
      "2018-03-26          1.0     168.07     173.10    166.44     172.770   \n",
      "2018-03-27          1.0     173.68     175.15    166.92     168.340   \n",
      "\n",
      "            Adj. Volume  \n",
      "Date                     \n",
      "2018-03-21   35247358.0  \n",
      "2018-03-22   41051076.0  \n",
      "2018-03-23   40248954.0  \n",
      "2018-03-26   36272617.0  \n",
      "2018-03-27   38962839.0  \n"
     ]
    }
   ],
   "source": [
    "import quandl\n",
    "import pandas as pd \n",
    "import numpy as np\n",
    "\n",
    "quandl.ApiConfig.api_key = 'B_m2qXx_fP2zr7VVzYtt' #setting up your api-key\n",
    "data = quandl.get('WIKI/AAPL', rows = 5) #accessing the data for apple using quandl\n",
    "data2 = pd.read_csv('https://www.quandl.com/api/v3/datasets/WIKI/FB/data.csv?api_key=B_m2qXx_fP2zr7VVzYtt').head(5)\n",
    "print(data)"
   ]
  },
  {
   "cell_type": "code",
   "execution_count": null,
   "metadata": {},
   "outputs": [],
   "source": [
    "def initialize(context):\n",
    "    auth_code = 'C_g4_bPDdjFrsdaf8P_K'\n",
    "    database = 'ZES'\n",
    "    dataset = 'AAPL'\n",
    "    url = 'https://quandl.com/api/v1/datasets/{0}/{1}.csv?auth_code={2}' url = url.format(database, dataset, auth_code)\n",
    "    fetch_csv(url, date_column='DATE', symbol=dataset, date_format='%Y-%m- %d', post_func=post_func)\n",
    "    # ffill: propagate last valid observation forward to next valid\n",
    "def post_func(df):\n",
    "    return df.fillna(method='ffill')\n",
    "def handle_data(context, data):\n",
    "    if 'EPS_PCT_DIFF_SURP' in data['AAPL']\n",
    "        if data['AAPL']['EPS_PCT_DIFF_SURP'] > 20"
   ]
  }
 ],
 "metadata": {
  "kernelspec": {
   "display_name": "Python 3",
   "language": "python",
   "name": "python3"
  },
  "language_info": {
   "codemirror_mode": {
    "name": "ipython",
    "version": 3
   },
   "file_extension": ".py",
   "mimetype": "text/x-python",
   "name": "python",
   "nbconvert_exporter": "python",
   "pygments_lexer": "ipython3",
   "version": "3.6.5"
  }
 },
 "nbformat": 4,
 "nbformat_minor": 2
}
